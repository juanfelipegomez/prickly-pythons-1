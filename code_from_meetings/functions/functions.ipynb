{
 "cells": [
  {
   "cell_type": "markdown",
   "metadata": {
    "collapsed": true
   },
   "source": [
    "This notebook contains various examples showing how functions are implemented and can be used in Python.\n",
    "\n",
    "Date Created: 14 Sep 2017\n",
    "<br>\n",
    "Last Modified: 25 Sep 2017\n",
    "<br>\n",
    "Humans Responsible: The Prickly Pythons"
   ]
  },
  {
   "cell_type": "code",
   "execution_count": 1,
   "metadata": {
    "collapsed": true
   },
   "outputs": [],
   "source": [
    "%matplotlib inline\n",
    "\n",
    "import numpy as np\n",
    "import matplotlib.pyplot as plt"
   ]
  },
  {
   "cell_type": "markdown",
   "metadata": {},
   "source": [
    "# Basic syntax\n",
    "Note that Python won't complain if arguments or variables in a function are not used."
   ]
  },
  {
   "cell_type": "code",
   "execution_count": 2,
   "metadata": {},
   "outputs": [
    {
     "name": "stdout",
     "output_type": "stream",
     "text": [
      "30\n"
     ]
    }
   ],
   "source": [
    "def my_funky_func(a, b):\n",
    "    c = a + b\n",
    "    return c\n",
    "\n",
    "x = my_funky_func(10,20)\n",
    "print(x)"
   ]
  },
  {
   "cell_type": "markdown",
   "metadata": {},
   "source": [
    "# Returning multiple things\n"
   ]
  },
  {
   "cell_type": "code",
   "execution_count": 3,
   "metadata": {
    "collapsed": true
   },
   "outputs": [],
   "source": [
    "def my_funky_func2():\n",
    "    a = 1000\n",
    "    b = 2000\n",
    "    c = 3000\n",
    "    return a, b, c"
   ]
  },
  {
   "cell_type": "code",
   "execution_count": 4,
   "metadata": {},
   "outputs": [
    {
     "name": "stdout",
     "output_type": "stream",
     "text": [
      "(1000, 2000, 3000)\n"
     ]
    }
   ],
   "source": [
    "x = my_funky_func2()\n",
    "print(x)"
   ]
  },
  {
   "cell_type": "code",
   "execution_count": 5,
   "metadata": {},
   "outputs": [
    {
     "name": "stdout",
     "output_type": "stream",
     "text": [
      "1000 2000 3000\n"
     ]
    }
   ],
   "source": [
    "x1, x2, x3 = my_funky_func2()\n",
    "print(x1, x2, x3)"
   ]
  },
  {
   "cell_type": "code",
   "execution_count": 6,
   "metadata": {},
   "outputs": [
    {
     "name": "stdout",
     "output_type": "stream",
     "text": [
      "3000\n"
     ]
    }
   ],
   "source": [
    "# An underscore is typically used in place of returned values that are not needed.\n",
    "_, _, y3 = my_funky_func2() \n",
    "print(y3)"
   ]
  },
  {
   "cell_type": "markdown",
   "metadata": {},
   "source": [
    "# Returning zero things (None)"
   ]
  },
  {
   "cell_type": "code",
   "execution_count": 7,
   "metadata": {},
   "outputs": [
    {
     "name": "stdout",
     "output_type": "stream",
     "text": [
      "Hello\n",
      "None\n"
     ]
    }
   ],
   "source": [
    "def my_funky_func3():\n",
    "    print('Hello')\n",
    "\n",
    "x = my_funky_func3()\n",
    "print(x)"
   ]
  },
  {
   "cell_type": "markdown",
   "metadata": {},
   "source": [
    "# Default arguments"
   ]
  },
  {
   "cell_type": "code",
   "execution_count": 8,
   "metadata": {},
   "outputs": [
    {
     "name": "stdout",
     "output_type": "stream",
     "text": [
      "Oh no, you've missed the c argument.\n",
      "None\n"
     ]
    }
   ],
   "source": [
    "def my_funky_func4(a=50, b=10, c=None):\n",
    "    if c is not None:\n",
    "        ans = a + b + c\n",
    "    else:\n",
    "        ans = None\n",
    "        print('Oh no, you\\'ve missed the c argument.')\n",
    "    return ans\n",
    "\n",
    "x = my_funky_func4(10,2)\n",
    "print(x)"
   ]
  },
  {
   "cell_type": "markdown",
   "metadata": {},
   "source": [
    "# Keyword arguments (Kwargs)"
   ]
  },
  {
   "cell_type": "code",
   "execution_count": 9,
   "metadata": {},
   "outputs": [
    {
     "data": {
      "text/plain": [
       "(1, 2, 300)"
      ]
     },
     "execution_count": 9,
     "metadata": {},
     "output_type": "execute_result"
    }
   ],
   "source": [
    "def my_funky_func5(a, b, c):\n",
    "    return a, b, c\n",
    "\n",
    "my_funky_func5(b=2, a=1, c=300)"
   ]
  },
  {
   "cell_type": "code",
   "execution_count": 10,
   "metadata": {},
   "outputs": [
    {
     "data": {
      "image/png": "[encoded data removed]",
      "text/plain": [
       "<matplotlib.figure.Figure at 0x103097b70>"
      ]
     },
     "metadata": {},
     "output_type": "display_data"
    }
   ],
   "source": [
    "x_min = 0.1\n",
    "x_max = 3\n",
    "x_step = 0.2\n",
    "\n",
    "x = np.arange(x_min, x_max, x_step)\n",
    "y1 = np.sin(1/x)\n",
    "y2 = np.cos(1/x)\n",
    "\n",
    "fig = plt.figure()\n",
    "ax = fig.add_subplot(111)\n",
    "ax.plot(x, y1, color='green', linestyle='dashed', linewidth=2, marker='o', \n",
    "        markerfacecolor='blue', markersize=9, label='sin(1/x)')\n",
    "ax.plot(x, y2, color='red', linestyle='-', linewidth=2, marker='^', \n",
    "        markerfacecolor='blue', markersize=9, label='cos(1/x)')\n",
    "plt.legend(loc='lower right')\n",
    "plt.show()\n",
    "\n",
    "# See https://matplotlib.org/api/pyplot_api.html#matplotlib.pyplot.plot for full list of kwargs"
   ]
  },
  {
   "cell_type": "markdown",
   "metadata": {},
   "source": [
    "# Variable arguments (Varargs)\n",
    "\\*param - All the positional arguments from that point until the end are collected as a tuple called \"param\".\n",
    "<br>\n",
    "\\*\\*param - All the keyword arguments from that point until the end are collected as a dictionary called \"param\"."
   ]
  },
  {
   "cell_type": "code",
   "execution_count": 11,
   "metadata": {},
   "outputs": [
    {
     "name": "stdout",
     "output_type": "stream",
     "text": [
      "3\n",
      "3\n",
      "3\n"
     ]
    }
   ],
   "source": [
    "# tuples, lists, dictionaries.\n",
    "\n",
    "a = (1, 2, 3) # Tuple\n",
    "b = [1, 2, 3] # List\n",
    "c = {'One':1, 'Two':2, 'Three':3} # Dictionary\n",
    "\n",
    "print(a[2])\n",
    "print(b[2])\n",
    "print(c['Three'])"
   ]
  },
  {
   "cell_type": "code",
   "execution_count": 12,
   "metadata": {},
   "outputs": [
    {
     "name": "stdout",
     "output_type": "stream",
     "text": [
      "1\n",
      "(2, 3, 4, 5, 'functions', 'pretty', 'cool')\n",
      "{'Today': 'Mon', 'key1': 1, 'key2': 2}\n"
     ]
    },
    {
     "data": {
      "text/plain": [
       "True"
      ]
     },
     "execution_count": 12,
     "metadata": {},
     "output_type": "execute_result"
    }
   ],
   "source": [
    "def my_funky_func6(a, *b, **c):\n",
    "    print(a)\n",
    "    print(b)\n",
    "    print(c)\n",
    "    return True\n",
    "\n",
    "my_funky_func6(1, 2, 3, 4, 5, 'functions', 'pretty', 'cool', key1=1, key2=2, Today='Mon')"
   ]
  },
  {
   "cell_type": "markdown",
   "metadata": {},
   "source": [
    "# Function Scope - Local vs Global "
   ]
  },
  {
   "cell_type": "code",
   "execution_count": 13,
   "metadata": {},
   "outputs": [
    {
     "name": "stdout",
     "output_type": "stream",
     "text": [
      "Value of x is 50\n"
     ]
    },
    {
     "ename": "UnboundLocalError",
     "evalue": "local variable 'x' referenced before assignment",
     "output_type": "error",
     "traceback": [
      "\u001b[0;31m---------------------------------------------------------------------------\u001b[0m",
      "\u001b[0;31mUnboundLocalError\u001b[0m                         Traceback (most recent call last)",
      "\u001b[0;32m<ipython-input-13-1a72c5294f38>\u001b[0m in \u001b[0;36m<module>\u001b[0;34m()\u001b[0m\n\u001b[1;32m     10\u001b[0m \u001b[0mx\u001b[0m \u001b[0;34m=\u001b[0m \u001b[0;36m50\u001b[0m\u001b[0;34m\u001b[0m\u001b[0m\n\u001b[1;32m     11\u001b[0m \u001b[0mprint\u001b[0m\u001b[0;34m(\u001b[0m\u001b[0;34m'Value of x is %s'\u001b[0m \u001b[0;34m%\u001b[0m \u001b[0mx\u001b[0m\u001b[0;34m)\u001b[0m\u001b[0;34m\u001b[0m\u001b[0m\n\u001b[0;32m---> 12\u001b[0;31m \u001b[0mmy_funky_func7\u001b[0m\u001b[0;34m(\u001b[0m\u001b[0;34m)\u001b[0m\u001b[0;34m\u001b[0m\u001b[0m\n\u001b[0m\u001b[1;32m     13\u001b[0m \u001b[0mprint\u001b[0m\u001b[0;34m(\u001b[0m\u001b[0;34m'\\nValue of x is now %s'\u001b[0m \u001b[0;34m%\u001b[0m \u001b[0mx\u001b[0m\u001b[0;34m)\u001b[0m\u001b[0;34m\u001b[0m\u001b[0m\n",
      "\u001b[0;32m<ipython-input-13-1a72c5294f38>\u001b[0m in \u001b[0;36mmy_funky_func7\u001b[0;34m()\u001b[0m\n\u001b[1;32m      2\u001b[0m     \u001b[0;31m#global x\u001b[0m\u001b[0;34m\u001b[0m\u001b[0;34m\u001b[0m\u001b[0m\n\u001b[1;32m      3\u001b[0m \u001b[0;34m\u001b[0m\u001b[0m\n\u001b[0;32m----> 4\u001b[0;31m     \u001b[0mprint\u001b[0m\u001b[0;34m(\u001b[0m\u001b[0;34m'\\nValue of x is %s'\u001b[0m \u001b[0;34m%\u001b[0m \u001b[0mx\u001b[0m\u001b[0;34m)\u001b[0m\u001b[0;34m\u001b[0m\u001b[0m\n\u001b[0m\u001b[1;32m      5\u001b[0m     \u001b[0mx\u001b[0m \u001b[0;34m=\u001b[0m \u001b[0;36m2\u001b[0m\u001b[0;34m\u001b[0m\u001b[0m\n\u001b[1;32m      6\u001b[0m     \u001b[0mprint\u001b[0m\u001b[0;34m(\u001b[0m\u001b[0;34m'Changing value of x to %s'\u001b[0m \u001b[0;34m%\u001b[0m \u001b[0mx\u001b[0m\u001b[0;34m)\u001b[0m\u001b[0;34m\u001b[0m\u001b[0m\n",
      "\u001b[0;31mUnboundLocalError\u001b[0m: local variable 'x' referenced before assignment"
     ]
    }
   ],
   "source": [
    "def my_funky_func7():\n",
    "    #global x\n",
    "\n",
    "    print('\\nValue of x is %s' % x)\n",
    "    x = 2\n",
    "    print('Changing value of x to %s' % x)\n",
    "    y = 3\n",
    "    print('Setting value of y to %s' % y)\n",
    "    \n",
    "x = 50\n",
    "print('Value of x is %s' % x)\n",
    "my_funky_func7()\n",
    "print('\\nValue of x is now %s' % x)"
   ]
  },
  {
   "cell_type": "code",
   "execution_count": 14,
   "metadata": {},
   "outputs": [
    {
     "ename": "NameError",
     "evalue": "name 'y' is not defined",
     "output_type": "error",
     "traceback": [
      "\u001b[0;31m---------------------------------------------------------------------------\u001b[0m",
      "\u001b[0;31mNameError\u001b[0m                                 Traceback (most recent call last)",
      "\u001b[0;32m<ipython-input-14-8bd0b90b7269>\u001b[0m in \u001b[0;36m<module>\u001b[0;34m()\u001b[0m\n\u001b[1;32m      1\u001b[0m \u001b[0;31m# But since y was not declared global, it cannot be printed outside the function:\u001b[0m\u001b[0;34m\u001b[0m\u001b[0;34m\u001b[0m\u001b[0m\n\u001b[0;32m----> 2\u001b[0;31m \u001b[0mprint\u001b[0m\u001b[0;34m(\u001b[0m\u001b[0my\u001b[0m\u001b[0;34m)\u001b[0m\u001b[0;34m\u001b[0m\u001b[0m\n\u001b[0m",
      "\u001b[0;31mNameError\u001b[0m: name 'y' is not defined"
     ]
    }
   ],
   "source": [
    "# But since y was not declared global, it cannot be printed outside the function:\n",
    "print(y)"
   ]
  },
  {
   "cell_type": "markdown",
   "metadata": {
    "collapsed": true
   },
   "source": [
    "# Docstrings\n",
    "Document our code we must."
   ]
  },
  {
   "cell_type": "code",
   "execution_count": 15,
   "metadata": {
    "collapsed": true
   },
   "outputs": [],
   "source": [
    "def example_func(arg1, arg2):\n",
    "    '''\n",
    "    Description of function.\n",
    "\n",
    "    Input Parameters\n",
    "    ----------\n",
    "    arg1 : int\n",
    "        Description of arg1.\n",
    "    arg2 : str\n",
    "        Description of arg2.\n",
    "\n",
    "    Returns\n",
    "    ----------\n",
    "    int\n",
    "        Description of return value.\n",
    "    '''\n",
    "    \n",
    "    return x"
   ]
  },
  {
   "cell_type": "code",
   "execution_count": 16,
   "metadata": {
    "collapsed": true
   },
   "outputs": [],
   "source": [
    "def answer_to_the_universe():\n",
    "    '''\n",
    "    Provides the answer to life, the universe, and everything.\n",
    "\n",
    "    Input Parameters\n",
    "    ----------\n",
    "\n",
    "    Returns\n",
    "    ----------\n",
    "    int\n",
    "        42\n",
    "    '''\n",
    "    return 42"
   ]
  },
  {
   "cell_type": "code",
   "execution_count": 17,
   "metadata": {},
   "outputs": [
    {
     "name": "stdout",
     "output_type": "stream",
     "text": [
      "Help on function answer_to_the_universe in module __main__:\n",
      "\n",
      "answer_to_the_universe()\n",
      "    Provides the answer to life, the universe, and everything.\n",
      "    \n",
      "    Input Parameters\n",
      "    ----------\n",
      "    \n",
      "    Returns\n",
      "    ----------\n",
      "    int\n",
      "        42\n",
      "\n"
     ]
    }
   ],
   "source": [
    "help(answer_to_the_universe)"
   ]
  },
  {
   "cell_type": "code",
   "execution_count": 18,
   "metadata": {},
   "outputs": [
    {
     "name": "stdout",
     "output_type": "stream",
     "text": [
      "\n",
      "    Provides the answer to life, the universe, and everything.\n",
      "\n",
      "    Input Parameters\n",
      "    ----------\n",
      "\n",
      "    Returns\n",
      "    ----------\n",
      "    int\n",
      "        42\n",
      "    \n"
     ]
    }
   ],
   "source": [
    "print(answer_to_the_universe.__doc__)"
   ]
  },
  {
   "cell_type": "code",
   "execution_count": 20,
   "metadata": {
    "collapsed": true
   },
   "outputs": [],
   "source": [
    "answer_to_the_universe?"
   ]
  },
  {
   "cell_type": "code",
   "execution_count": null,
   "metadata": {
    "collapsed": true
   },
   "outputs": [],
   "source": []
  },
  {
   "cell_type": "code",
   "execution_count": null,
   "metadata": {
    "collapsed": true
   },
   "outputs": [],
   "source": []
  },
  {
   "cell_type": "code",
   "execution_count": null,
   "metadata": {
    "collapsed": true
   },
   "outputs": [],
   "source": []
  }
 ],
 "metadata": {
  "kernelspec": {
   "display_name": "Python 2",
   "language": "python",
   "name": "python2"
  },
  "language_info": {
   "codemirror_mode": {
    "name": "ipython",
    "version": 2
   },
   "file_extension": ".py",
   "mimetype": "text/x-python",
   "name": "python",
   "nbconvert_exporter": "python",
   "pygments_lexer": "ipython2",
   "version": "2.7.13"
  }
 },
 "nbformat": 4,
 "nbformat_minor": 1
}
