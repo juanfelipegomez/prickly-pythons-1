{
 "cells": [
  {
   "cell_type": "markdown",
   "metadata": {},
   "source": [
    "This notebook contains various examples of fitting models to data.\n",
    "- scipy.stats.linregress\n",
    "- numpy.polyfit\n",
    "- scipy.optimize.curve_fit\n",
    "\n",
    "Date Created: Sep 23 2017\n",
    "<br>\n",
    "Last Modified: Feb 12 2018\n",
    "<br>\n",
    "Humans Responsible: The Prickly Pythons\n",
    "<br>\n",
    "Kernel used: Python 3"
   ]
  },
  {
   "cell_type": "code",
   "execution_count": null,
   "metadata": {
    "collapsed": true
   },
   "outputs": [],
   "source": [
    "%matplotlib inline\n",
    "import matplotlib.pyplot as plt\n",
    "import numpy as np"
   ]
  },
  {
   "cell_type": "markdown",
   "metadata": {},
   "source": [
    "# scipy.stats.linregress\n",
    "\n",
    "Official documentation: https://docs.scipy.org/doc/scipy/reference/generated/scipy.stats.linregress.html\n",
    "- Fits data to straight line.\n",
    "- Returns r^2 value of the fit and other measures of regression goodness."
   ]
  },
  {
   "cell_type": "code",
   "execution_count": null,
   "metadata": {},
   "outputs": [],
   "source": [
    "# Generate some synthetic data\n",
    "x = np.arange(0,10)\n",
    "y = x + np.random.rand(10)*3.\n",
    "# (rand() returns a random number between 0 and 1.)\n",
    "print(x)\n",
    "print(y)"
   ]
  },
  {
   "cell_type": "code",
   "execution_count": null,
   "metadata": {},
   "outputs": [],
   "source": [
    "import scipy.stats as stats\n",
    "\n",
    "slope, intercept, r_value, p_value, std_err = stats.linregress(x,y)\n",
    "# Performing a linear regression data this way \n",
    "# will return 5 values that must all be named!\n",
    "#If you're not interested in all of these:\n",
    "slope, intercept, *stats = stats.linregress(x,y)\n",
    "\n",
    "print(slope, intercept)"
   ]
  },
  {
   "cell_type": "code",
   "execution_count": null,
   "metadata": {},
   "outputs": [],
   "source": [
    "# Plot the data and the fitted function\n",
    "fig = plt.figure(figsize=(9,5))\n",
    "ax1 = fig.add_subplot(111)\n",
    "ax1.plot(x, y, 'x', mew=2, ms=8, color='blue')\n",
    "ax1.plot(x, x*slope+intercept, ls='--', color='red', lw=2)\n",
    "ax1.set_xlabel('x')\n",
    "ax1.set_ylabel('y')\n",
    "ax1.grid()\n",
    "plt.show()"
   ]
  },
  {
   "cell_type": "markdown",
   "metadata": {},
   "source": [
    "R-value or coefficient of determination (https://en.wikipedia.org/wiki/Coefficient_of_determination)"
   ]
  },
  {
   "cell_type": "code",
   "execution_count": null,
   "metadata": {},
   "outputs": [],
   "source": [
    "print('r^2: %.2f' % r_value)"
   ]
  },
  {
   "cell_type": "markdown",
   "metadata": {},
   "source": [
    "p-value: hypothesis test whose null hypothesis is that the slope is zero:"
   ]
  },
  {
   "cell_type": "code",
   "execution_count": null,
   "metadata": {},
   "outputs": [],
   "source": [
    "print('p-value: %e' % p_value) "
   ]
  },
  {
   "cell_type": "code",
   "execution_count": null,
   "metadata": {},
   "outputs": [],
   "source": [
    "# Same as:\n",
    "print(stats[1])"
   ]
  },
  {
   "cell_type": "markdown",
   "metadata": {},
   "source": [
    "# numpy.polyfit\n",
    "Official Documentation: https://docs.scipy.org/doc/numpy-1.13.0/reference/generated/numpy.polyfit.html\n",
    "- Fits polynoimals to data.\n",
    "- Can handle fitting with error bars.\n",
    "- Faster than scipy.optimize.curve_fit but can only fit for polynomials."
   ]
  },
  {
   "cell_type": "markdown",
   "metadata": {},
   "source": [
    "### Linear regression with and without error bars"
   ]
  },
  {
   "cell_type": "code",
   "execution_count": null,
   "metadata": {
    "collapsed": true
   },
   "outputs": [],
   "source": [
    "# Generate some synthetic data (again)\n",
    "data_len = 10\n",
    "x = np.linspace(0, 10, data_len)\n",
    "\n",
    "# Errors in y\n",
    "dy_std = 3*np.random.rand(data_len) + 1 # \"sigma\"\n",
    "dy = dy_std * np.random.randn(data_len) # \"error\"\n",
    "# (randn() returns a sample (or samples) from the “standard normal” distribution.)\n",
    "\n",
    "# This is our data\n",
    "y = x + dy"
   ]
  },
  {
   "cell_type": "code",
   "execution_count": null,
   "metadata": {},
   "outputs": [],
   "source": [
    "# Do a linear fit with weighted data points\n",
    "coeff, *stats = np.polyfit(x, y, deg=1, w=1/dy_std, full=True)\n",
    "\n",
    "# Fitted function\n",
    "y_fit = coeff[0]*x + coeff[1]\n",
    "\n",
    "print(coeff)\n",
    "print(stats)"
   ]
  },
  {
   "cell_type": "code",
   "execution_count": null,
   "metadata": {},
   "outputs": [],
   "source": [
    "# Compare with unweighted linear fit\n",
    "coeff, *stats = np.polyfit(x, y, deg=1, full=True)\n",
    "\n",
    "# Fitted function\n",
    "y_fitUnweighted = coeff[0]*x + coeff[1]\n",
    "\n",
    "print(coeff)\n",
    "print(stats)"
   ]
  },
  {
   "cell_type": "code",
   "execution_count": null,
   "metadata": {},
   "outputs": [],
   "source": [
    "# Plot the data and the fitted function\n",
    "fig = plt.figure(figsize=(9,5))\n",
    "ax = fig.add_subplot(111)\n",
    "ax.errorbar(x, y, yerr=dy_std, fmt='o')\n",
    "ax.plot(x, y_fit, color='red', linestyle='dashed', linewidth=2, label='weighted')\n",
    "ax.plot(x, y_fitUnweighted, color='green', linestyle='dashed', linewidth=2, label='unweighted')\n",
    "ax.set_xlim(left=-1, right=11)\n",
    "ax.grid()\n",
    "plt.xlabel('x', fontsize=14)\n",
    "plt.ylabel('y', fontsize=14)\n",
    "plt.legend(loc='lower right')\n",
    "plt.show()"
   ]
  },
  {
   "cell_type": "markdown",
   "metadata": {},
   "source": [
    "### Fitting a polynomial with deg > 1"
   ]
  },
  {
   "cell_type": "code",
   "execution_count": null,
   "metadata": {
    "collapsed": true
   },
   "outputs": [],
   "source": [
    "# Generate some synthetic data\n",
    "data_len = 10\n",
    "x = np.linspace(0, 10, data_len)\n",
    "\n",
    "# This is our data\n",
    "noise = (np.random.rand(data_len) - 0.5)*30\n",
    "y = x**2 + 3*x - 1 + noise"
   ]
  },
  {
   "cell_type": "code",
   "execution_count": null,
   "metadata": {},
   "outputs": [],
   "source": [
    "coeff, *stats = np.polyfit(x, y, deg=2, full=True)\n",
    "print(coeff)\n",
    "print(stats)\n",
    "\n",
    "y_fit = coeff[0]*x**2 + coeff[1]*x + coeff[2]"
   ]
  },
  {
   "cell_type": "code",
   "execution_count": null,
   "metadata": {},
   "outputs": [],
   "source": [
    "# Plot the data and the fitted function\n",
    "fig = plt.figure(figsize=(9,5))\n",
    "ax = fig.add_subplot(111)\n",
    "ax.plot(x, y, 'x', mew=2, ms=8, color='blue')\n",
    "ax.plot(x, y_fit, color='red', linestyle='dashed', linewidth=2, label='weighted')\n",
    "ax.set_xlim(left=-1, right=11)\n",
    "ax.grid()\n",
    "plt.xlabel('x', fontsize=14)\n",
    "plt.ylabel('y', fontsize=14)\n",
    "plt.show()"
   ]
  },
  {
   "cell_type": "markdown",
   "metadata": {},
   "source": [
    "# scipy.optimize.curve_fit\n",
    "Official Documentation: https://docs.scipy.org/doc/scipy/reference/generated/scipy.optimize.curve_fit.html\n",
    "- General - Can fit data to any function.\n",
    "- Iterative methods - may be slow."
   ]
  },
  {
   "cell_type": "code",
   "execution_count": null,
   "metadata": {
    "collapsed": true
   },
   "outputs": [],
   "source": [
    "# Generate some synthetic data\n",
    "sigma = 3\n",
    "mu = 10\n",
    "num_samples = 1000\n",
    "\n",
    "s = sigma * np.random.randn(num_samples)*5. + mu"
   ]
  },
  {
   "cell_type": "code",
   "execution_count": null,
   "metadata": {},
   "outputs": [],
   "source": [
    "# Make a histogram\n",
    "num_bin = 20\n",
    "hist, bin_edges = np.histogram(s, bins=num_bin)\n",
    "\n",
    "bin_center = (bin_edges[:-1] + bin_edges[1:]) / 2\n",
    "# (bin_center will be one element shorter than bin_edges)\n",
    "\n",
    "x = bin_center\n",
    "y = hist\n",
    "print(x)\n",
    "print(y)"
   ]
  },
  {
   "cell_type": "code",
   "execution_count": null,
   "metadata": {},
   "outputs": [],
   "source": [
    "from scipy.optimize import curve_fit\n",
    "\n",
    "# Define a Gaussian function\n",
    "def func(x, A, mu, sigma):\n",
    "    return A * np.exp(-(x-mu)**2/(2*sigma**2))\n",
    "\n",
    "# Supply an intial guess.\n",
    "# Parameter A should be close to the maximum of the data\n",
    "# Parameter mu should be close to the mean of the data\n",
    "# Parameter sigma should be close to the standard deviation of the data\n",
    "initial_guess = [np.max(y), np.mean(y), np.std(y)]\n",
    "\n",
    "# Do the fitting\n",
    "p_opt, p_cov = curve_fit(func, x, y, p0=initial_guess, maxfev=1000)\n",
    "\n",
    "# Gives the optimized parameters and the covariance matrix:\n",
    "print(p_opt)\n",
    "print(p_cov)"
   ]
  },
  {
   "cell_type": "code",
   "execution_count": null,
   "metadata": {},
   "outputs": [],
   "source": [
    "# Plot the results\n",
    "x_plot = np.arange(np.min(x),np.max(x),0.1)\n",
    "\n",
    "fig = plt.figure(figsize=(9,5))\n",
    "ax = fig.add_subplot(111)\n",
    "ax.hist(s, bins=num_bin)\n",
    "ax.plot(x, y, 'o', mew=2, markersize=8, color='red')\n",
    "ax.plot(x_plot, func(x_plot, *p_opt), linewidth=3, color='red', linestyle='dashed')\n",
    "plt.show()"
   ]
  },
  {
   "cell_type": "code",
   "execution_count": null,
   "metadata": {
    "collapsed": true
   },
   "outputs": [],
   "source": []
  }
 ],
 "metadata": {
  "kernelspec": {
   "display_name": "Python 3",
   "language": "python",
   "name": "python3"
  },
  "language_info": {
   "codemirror_mode": {
    "name": "ipython",
    "version": 3
   },
   "file_extension": ".py",
   "mimetype": "text/x-python",
   "name": "python",
   "nbconvert_exporter": "python",
   "pygments_lexer": "ipython3",
   "version": "3.5.4"
  }
 },
 "nbformat": 4,
 "nbformat_minor": 1
}
