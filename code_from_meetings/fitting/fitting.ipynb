{
 "cells": [
  {
   "cell_type": "markdown",
   "metadata": {},
   "source": [
    "This notebook contains various examples of fitting models to data.\n",
    "- scipy.stats.linregress\n",
    "- numpy.polyfit\n",
    "- scipy.optimize.curve_fit\n",
    "\n",
    "Date Created: Sep 23 2017\n",
    "<br>\n",
    "Last Modified: Feb 12 2018\n",
    "<br>\n",
    "Humans Responsible: The Prickly Pythons\n",
    "<br>\n",
    "Kernel used: Python 3"
   ]
  },
  {
   "cell_type": "code",
   "execution_count": 1,
   "metadata": {
    "collapsed": true
   },
   "outputs": [],
   "source": [
    "%matplotlib inline\n",
    "import matplotlib.pyplot as plt\n",
    "import numpy as np"
   ]
  },
  {
   "cell_type": "markdown",
   "metadata": {},
   "source": [
    "# scipy.stats.linregress\n",
    "\n",
    "Official documentation: https://docs.scipy.org/doc/scipy/reference/generated/scipy.stats.linregress.html\n",
    "- Fits data to straight line.\n",
    "- Returns r^2 value of the fit and other measures of regression goodness."
   ]
  },
  {
   "cell_type": "code",
   "execution_count": 2,
   "metadata": {},
   "outputs": [
    {
     "name": "stdout",
     "output_type": "stream",
     "text": [
      "[0 1 2 3 4 5 6 7 8 9]\n",
      "[  2.49203234   2.60020464   4.39461928   5.68487239   5.21871973\n",
      "   5.08913947   6.25941227   8.15154709  10.82006884  10.92928637]\n"
     ]
    }
   ],
   "source": [
    "# Generate some synthetic data\n",
    "x = np.arange(0,10)\n",
    "y = x + np.random.rand(10)*3.\n",
    "# (rand() returns a random number between 0 and 1.)\n",
    "print(x)\n",
    "print(y)"
   ]
  },
  {
   "cell_type": "code",
   "execution_count": 3,
   "metadata": {},
   "outputs": [
    {
     "name": "stdout",
     "output_type": "stream",
     "text": [
      "0.932442509894 1.96799894797\n"
     ]
    }
   ],
   "source": [
    "import scipy.stats as stats\n",
    "\n",
    "slope, intercept, r_value, p_value, std_err = stats.linregress(x,y)\n",
    "# Performing a linear regression data this way \n",
    "# will return 5 values that must all be named!\n",
    "#If you're not interested in all of these:\n",
    "slope, intercept, *stats = stats.linregress(x,y)\n",
    "\n",
    "print(slope, intercept)"
   ]
  },
  {
   "cell_type": "code",
   "execution_count": 4,
   "metadata": {},
   "outputs": [
    {
     "data": {
      "image/png": "[encoded data removed]",
      "text/plain": [
       "<matplotlib.figure.Figure at 0x1a13f32f60>"
      ]
     },
     "metadata": {},
     "output_type": "display_data"
    }
   ],
   "source": [
    "# Plot the data and the fitted function\n",
    "fig = plt.figure(figsize=(9,5))\n",
    "ax1 = fig.add_subplot(111)\n",
    "ax1.plot(x, y, 'x', mew=2, ms=8, color='blue')\n",
    "ax1.plot(x, x*slope+intercept, ls='--', color='red', lw=2)\n",
    "ax1.set_xlabel('x')\n",
    "ax1.set_ylabel('y')\n",
    "ax1.grid()\n",
    "plt.show()"
   ]
  },
  {
   "cell_type": "markdown",
   "metadata": {},
   "source": [
    "R-value or coefficient of determination (https://en.wikipedia.org/wiki/Coefficient_of_determination)"
   ]
  },
  {
   "cell_type": "code",
   "execution_count": 5,
   "metadata": {},
   "outputs": [
    {
     "name": "stdout",
     "output_type": "stream",
     "text": [
      "r^2: 0.95\n"
     ]
    }
   ],
   "source": [
    "print('r^2: %.2f' % r_value)"
   ]
  },
  {
   "cell_type": "markdown",
   "metadata": {},
   "source": [
    "p-value: hypothesis test whose null hypothesis is that the slope is zero:"
   ]
  },
  {
   "cell_type": "code",
   "execution_count": 6,
   "metadata": {},
   "outputs": [
    {
     "name": "stdout",
     "output_type": "stream",
     "text": [
      "p-value: 3.175766e-05\n"
     ]
    }
   ],
   "source": [
    "print('p-value: %e' % p_value) "
   ]
  },
  {
   "cell_type": "code",
   "execution_count": 7,
   "metadata": {},
   "outputs": [
    {
     "name": "stdout",
     "output_type": "stream",
     "text": [
      "3.17576555393e-05\n"
     ]
    }
   ],
   "source": [
    "# Same as:\n",
    "print(stats[1])"
   ]
  },
  {
   "cell_type": "markdown",
   "metadata": {},
   "source": [
    "# numpy.polyfit\n",
    "Official Documentation: https://docs.scipy.org/doc/numpy-1.13.0/reference/generated/numpy.polyfit.html\n",
    "- Fits polynoimals to data.\n",
    "- Can handle fitting with error bars.\n",
    "- Faster than scipy.optimize.curve_fit but can only fit for polynomials."
   ]
  },
  {
   "cell_type": "markdown",
   "metadata": {},
   "source": [
    "### Linear regression with and without error bars"
   ]
  },
  {
   "cell_type": "code",
   "execution_count": 8,
   "metadata": {
    "collapsed": true
   },
   "outputs": [],
   "source": [
    "# Generate some synthetic data (again)\n",
    "data_len = 10\n",
    "x = np.linspace(0, 10, data_len)\n",
    "\n",
    "# Errors in y\n",
    "dy_std = 3*np.random.rand(data_len) + 1 # \"sigma\"\n",
    "dy = dy_std * np.random.randn(data_len) # \"error\"\n",
    "# (randn() returns a sample (or samples) from the “standard normal” distribution.)\n",
    "\n",
    "# This is our data\n",
    "y = x + dy"
   ]
  },
  {
   "cell_type": "code",
   "execution_count": 9,
   "metadata": {},
   "outputs": [
    {
     "name": "stdout",
     "output_type": "stream",
     "text": [
      "[ 0.83591565  1.67445201]\n",
      "[array([ 3.86738613]), 2, array([ 1.35755084,  0.39630257]), 2.2204460492503131e-15]\n"
     ]
    }
   ],
   "source": [
    "# Do a linear fit with weighted data points\n",
    "coeff, *stats = np.polyfit(x, y, deg=1, w=1/dy_std, full=True)\n",
    "\n",
    "# Fitted function\n",
    "y_fit = coeff[0]*x + coeff[1]\n",
    "\n",
    "print(coeff)\n",
    "print(stats)"
   ]
  },
  {
   "cell_type": "code",
   "execution_count": 10,
   "metadata": {},
   "outputs": [
    {
     "name": "stdout",
     "output_type": "stream",
     "text": [
      "[ 0.79063729  2.07401126]\n",
      "[array([ 25.73329231]), 2, array([ 1.35754456,  0.39632407]), 2.2204460492503131e-15]\n"
     ]
    }
   ],
   "source": [
    "# Compare with unweighted linear fit\n",
    "coeff, *stats = np.polyfit(x, y, deg=1, full=True)\n",
    "\n",
    "# Fitted function\n",
    "y_fitUnweighted = coeff[0]*x + coeff[1]\n",
    "\n",
    "print(coeff)\n",
    "print(stats)"
   ]
  },
  {
   "cell_type": "code",
   "execution_count": 11,
   "metadata": {},
   "outputs": [
    {
     "data": {
      "image/png": "[encoded data removed]",
      "text/plain": [
       "<matplotlib.figure.Figure at 0x1a18f5f780>"
      ]
     },
     "metadata": {},
     "output_type": "display_data"
    }
   ],
   "source": [
    "# Plot the data and the fitted function\n",
    "fig = plt.figure(figsize=(9,5))\n",
    "ax = fig.add_subplot(111)\n",
    "ax.errorbar(x, y, yerr=dy_std, fmt='o')\n",
    "ax.plot(x, y_fit, color='red', linestyle='dashed', linewidth=2, label='weighted')\n",
    "ax.plot(x, y_fitUnweighted, color='green', linestyle='dashed', linewidth=2, label='unweighted')\n",
    "ax.set_xlim(left=-1, right=11)\n",
    "ax.grid()\n",
    "plt.xlabel('x', fontsize=14)\n",
    "plt.ylabel('y', fontsize=14)\n",
    "plt.legend(loc='lower right')\n",
    "plt.show()"
   ]
  },
  {
   "cell_type": "markdown",
   "metadata": {},
   "source": [
    "### Fitting a polynomial with deg > 1"
   ]
  },
  {
   "cell_type": "code",
   "execution_count": 12,
   "metadata": {
    "collapsed": true
   },
   "outputs": [],
   "source": [
    "# Generate some synthetic data\n",
    "data_len = 10\n",
    "x = np.linspace(0, 10, data_len)\n",
    "\n",
    "# This is our data\n",
    "noise = (np.random.rand(data_len) - 0.5)*30\n",
    "y = x**2 + 3*x - 1 + noise"
   ]
  },
  {
   "cell_type": "code",
   "execution_count": 13,
   "metadata": {},
   "outputs": [
    {
     "name": "stdout",
     "output_type": "stream",
     "text": [
      "[  0.63929305   6.5158868  -10.98083101]\n",
      "[array([ 302.56091276]), 3, array([ 1.64219501,  0.53895301,  0.11280603]), 2.2204460492503131e-15]\n"
     ]
    }
   ],
   "source": [
    "coeff, *stats = np.polyfit(x, y, deg=2, full=True)\n",
    "print(coeff)\n",
    "print(stats)\n",
    "\n",
    "y_fit = coeff[0]*x**2 + coeff[1]*x + coeff[2]"
   ]
  },
  {
   "cell_type": "code",
   "execution_count": 14,
   "metadata": {},
   "outputs": [
    {
     "data": {
      "image/png": "[encoded data removed]",
      "text/plain": [
       "<matplotlib.figure.Figure at 0x1a13f6a7b8>"
      ]
     },
     "metadata": {},
     "output_type": "display_data"
    }
   ],
   "source": [
    "# Plot the data and the fitted function\n",
    "fig = plt.figure(figsize=(9,5))\n",
    "ax = fig.add_subplot(111)\n",
    "ax.plot(x, y, 'x', mew=2, ms=8, color='blue')\n",
    "ax.plot(x, y_fit, color='red', linestyle='dashed', linewidth=2, label='weighted')\n",
    "ax.set_xlim(left=-1, right=11)\n",
    "ax.grid()\n",
    "plt.xlabel('x', fontsize=14)\n",
    "plt.ylabel('y', fontsize=14)\n",
    "plt.show()"
   ]
  },
  {
   "cell_type": "markdown",
   "metadata": {},
   "source": [
    "# scipy.optimize.curve_fit\n",
    "Official Documentation: https://docs.scipy.org/doc/scipy/reference/generated/scipy.optimize.curve_fit.html\n",
    "- General - Can fit data to any function.\n",
    "- Iterative methods - may be slow."
   ]
  },
  {
   "cell_type": "code",
   "execution_count": 15,
   "metadata": {
    "collapsed": true
   },
   "outputs": [],
   "source": [
    "# Generate some synthetic data\n",
    "sigma = 3\n",
    "mu = 10\n",
    "num_samples = 1000\n",
    "\n",
    "s = sigma * np.random.randn(num_samples)*5. + mu"
   ]
  },
  {
   "cell_type": "code",
   "execution_count": 16,
   "metadata": {},
   "outputs": [
    {
     "name": "stdout",
     "output_type": "stream",
     "text": [
      "[-36.28851413 -31.15460551 -26.0206969  -20.88678828 -15.75287966\n",
      " -10.61897105  -5.48506243  -0.35115381   4.78275481   9.91666342\n",
      "  15.05057204  20.18448066  25.31838927  30.45229789  35.58620651\n",
      "  40.72011513  45.85402374  50.98793236  56.12184098  61.25574959]\n",
      "[  1   0   8   9  34  61  77 100 141 117 146  99  78  60  36  15  10   5\n",
      "   1   2]\n"
     ]
    }
   ],
   "source": [
    "# Make a histogram\n",
    "num_bin = 20\n",
    "hist, bin_edges = np.histogram(s, bins=num_bin)\n",
    "\n",
    "bin_center = (bin_edges[:-1] + bin_edges[1:]) / 2\n",
    "# (bin_center will be one element shorter than bin_edges)\n",
    "\n",
    "x = bin_center\n",
    "y = hist\n",
    "print(x)\n",
    "print(y)"
   ]
  },
  {
   "cell_type": "code",
   "execution_count": 17,
   "metadata": {},
   "outputs": [
    {
     "name": "stdout",
     "output_type": "stream",
     "text": [
      "[ 134.98412232   10.09545087   15.22813426]\n",
      "[[  1.98093582e+01   1.99440375e-04  -1.49046313e+00]\n",
      " [  1.99440375e-04   3.36112019e-01  -4.95408300e-05]\n",
      " [ -1.49046313e+00  -4.95408300e-05   3.36309713e-01]]\n"
     ]
    }
   ],
   "source": [
    "from scipy.optimize import curve_fit\n",
    "\n",
    "# Define a Gaussian function\n",
    "def func(x, A, mu, sigma):\n",
    "    return A * np.exp(-(x-mu)**2/(2*sigma**2))\n",
    "\n",
    "# Supply an intial guess.\n",
    "# Parameter A should be close to the maximum of the data\n",
    "# Parameter mu should be close to the mean of the data\n",
    "# Parameter sigma should be close to the standard deviation of the data\n",
    "initial_guess = [np.max(y), np.mean(y), np.std(y)]\n",
    "\n",
    "# Do the fitting\n",
    "p_opt, p_cov = curve_fit(func, x, y, p0=initial_guess, maxfev=1000)\n",
    "\n",
    "# Gives the optimized parameters and the covariance matrix:\n",
    "print(p_opt)\n",
    "print(p_cov)"
   ]
  },
  {
   "cell_type": "code",
   "execution_count": 18,
   "metadata": {},
   "outputs": [
    {
     "data": {
      "image/png": "[encoded data removed]",
      "text/plain": [
       "<matplotlib.figure.Figure at 0x1a1c948fd0>"
      ]
     },
     "metadata": {},
     "output_type": "display_data"
    }
   ],
   "source": [
    "# Plot the results\n",
    "x_plot = np.arange(np.min(x),np.max(x),0.1)\n",
    "\n",
    "fig = plt.figure(figsize=(9,5))\n",
    "ax = fig.add_subplot(111)\n",
    "ax.hist(s, bins=num_bin)\n",
    "ax.plot(x, y, 'o', mew=2, markersize=8, color='red')\n",
    "ax.plot(x_plot, func(x_plot, *p_opt), linewidth=3, color='red', linestyle='dashed')\n",
    "plt.show()"
   ]
  },
  {
   "cell_type": "code",
   "execution_count": null,
   "metadata": {
    "collapsed": true
   },
   "outputs": [],
   "source": []
  },
  {
   "cell_type": "code",
   "execution_count": null,
   "metadata": {
    "collapsed": true
   },
   "outputs": [],
   "source": []
  }
 ],
 "metadata": {
  "kernelspec": {
   "display_name": "Python 3",
   "language": "python",
   "name": "python3"
  },
  "language_info": {
   "codemirror_mode": {
    "name": "ipython",
    "version": 3
   },
   "file_extension": ".py",
   "mimetype": "text/x-python",
   "name": "python",
   "nbconvert_exporter": "python",
   "pygments_lexer": "ipython3",
   "version": "3.5.4"
  }
 },
 "nbformat": 4,
 "nbformat_minor": 1
}
