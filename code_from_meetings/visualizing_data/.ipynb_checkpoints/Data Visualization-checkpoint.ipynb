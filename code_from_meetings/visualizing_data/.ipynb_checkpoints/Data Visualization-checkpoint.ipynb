{
 "cells": [
  {
   "cell_type": "markdown",
   "metadata": {},
   "source": [
    "This notebook explores various data visualization techniques with Python.\n",
    "\n",
    "Date Created: 10 Feb 2018\n",
    "<br>\n",
    "Last Modified: 11 Feb 2018 \n",
    "<br>\n",
    "Humans Responsible: The Prickly Pythons"
   ]
  },
  {
   "cell_type": "code",
   "execution_count": null,
   "metadata": {},
   "outputs": [],
   "source": [
    "%matplotlib inline"
   ]
  },
  {
   "cell_type": "code",
   "execution_count": null,
   "metadata": {},
   "outputs": [],
   "source": [
    "import matplotlib.pyplot as plt\n",
    "import numpy as np"
   ]
  },
  {
   "cell_type": "markdown",
   "metadata": {},
   "source": [
    "# Annotation\n",
    "It's nice to be able to annotate a figure with lines, arrows and inset plots etc. to help the viewer understand the data better. Matplotlib's annotation module does this.\n",
    "<br>\n",
    "For more information, have a look at these documentations:\n",
    "<br>\n",
    "https://matplotlib.org/api/_as_gen/matplotlib.axes.Axes.annotate.html\n",
    "<br>\n",
    "https://matplotlib.org/users/annotations_guide.html"
   ]
  },
  {
   "cell_type": "code",
   "execution_count": null,
   "metadata": {},
   "outputs": [],
   "source": [
    "from scipy.misc import imread\n",
    "\n",
    "BG_img = imread(\"bird.png\")"
   ]
  },
  {
   "cell_type": "code",
   "execution_count": null,
   "metadata": {},
   "outputs": [],
   "source": [
    "fig = plt.figure(figsize=(18,9))\n",
    "\n",
    "labels = ['Cookies', 'Jellybean', 'Milkshake', 'Cheesecake']\n",
    "colors = ['yellowgreen', 'gold', 'lightskyblue', 'lightcoral']\n",
    "\n",
    "# Axis 1 - main figure\n",
    "ax1 = fig.add_subplot(111)\n",
    "im = ax1.imshow(BG_img, interpolation='nearest')\n",
    "ax1.set_xticks([])\n",
    "ax1.set_yticks([])\n",
    "\n",
    "\n",
    "# Axis 2 - The first inset axis\n",
    "ax2 = plt.axes([0.42, 0.72, 0.15, 0.15]) # First two numbers specify position, last two gives the size of the pie plot\n",
    "proportions_Brain = [38.4, 40.6, 20.7, 10.3] # Proportions of the pie plot\n",
    "patches, texts = plt.pie(proportions_Brain, colors=colors, shadow=False, startangle=90)\n",
    "ax2.axis('equal')\n",
    "ax2.set_title('Brain')\n",
    "# To plot a line connecting the pie chart to the body part of the bird:\n",
    "ax1.annotate('',                 \\\n",
    "             xy = (200, 100),    \\\n",
    "             xytext = (310, 70), \\\n",
    "             arrowprops = dict(arrowstyle='-', facecolor='black'))\n",
    "\n",
    "# Axis 3 - The second inset axis\n",
    "ax3 = plt.axes([0.2, 0.25, 0.19, 0.19]) # First two numbers specify position, last two gives the size of the pie plot\n",
    "proportions_Heart = [61.7, 46.3, 12.1, 100.1] # Proportions of the pie plot\n",
    "patches, texts = plt.pie(proportions_Heart, colors=colors, shadow=False, startangle=90)\n",
    "ax3.axis('equal')\n",
    "ax3.set_title('Heart')\n",
    "ax1.annotate('',                  \\\n",
    "             xy = (250, 280),     \\\n",
    "             xytext = (145, 350), \\\n",
    "             arrowprops = dict(arrowstyle='-', facecolor='black'))\n",
    "\n",
    "# Axis 4 - The third inset axis\n",
    "ax4 = plt.axes([0.53, 0.54, 0.23, 0.23]) # First two numbers specify position, last two gives the size of the pie plot\n",
    "proportions_stomach = [23.0, 63.2, 42.1, 10.1] # Proportions of the pie plot\n",
    "patches, texts = plt.pie(proportions_stomach, colors=colors, shadow=False, startangle=90)\n",
    "ax4.axis('equal')\n",
    "ax4.set_title('Stomach')\n",
    "ax1.annotate('',                  \\\n",
    "             xy = (400, 320),     \\\n",
    "             xytext = (520, 220), \\\n",
    "             arrowprops = dict(arrowstyle='-', facecolor='black'))\n",
    "\n",
    "\n",
    "# Label the colors and display as legend - on axis number one.\n",
    "ax1.legend(patches, labels, loc=\"best\")\n",
    "\n",
    "plt.show()"
   ]
  },
  {
   "cell_type": "code",
   "execution_count": null,
   "metadata": {},
   "outputs": [],
   "source": []
  }
 ],
 "metadata": {
  "kernelspec": {
   "display_name": "Python 2",
   "language": "python",
   "name": "python2"
  },
  "language_info": {
   "codemirror_mode": {
    "name": "ipython",
    "version": 2
   },
   "file_extension": ".py",
   "mimetype": "text/x-python",
   "name": "python",
   "nbconvert_exporter": "python",
   "pygments_lexer": "ipython2",
   "version": "2.7.14"
  }
 },
 "nbformat": 4,
 "nbformat_minor": 1
}
