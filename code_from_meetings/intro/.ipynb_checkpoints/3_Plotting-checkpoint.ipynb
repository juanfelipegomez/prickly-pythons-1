{
 "cells": [
  {
   "cell_type": "markdown",
   "metadata": {},
   "source": [
    "This notebook contains a rough introduction to basic plotting in Python.\n",
    "\n",
    "Last Modified: Jan 23 2017 \n",
    "<br>\n",
    "Humans Responsible: The Prickly Pythons"
   ]
  },
  {
   "cell_type": "code",
   "execution_count": null,
   "metadata": {
    "collapsed": true
   },
   "outputs": [],
   "source": [
    "%matplotlib inline\n",
    "# (the above is to plot directly in this notebook)\n",
    "import matplotlib as mpl\n",
    "import matplotlib.pyplot as plt\n",
    "import numpy as np"
   ]
  },
  {
   "cell_type": "code",
   "execution_count": null,
   "metadata": {},
   "outputs": [],
   "source": [
    "# Set up a figure window and plot (object-oriented programming)\n",
    "fig = plt.figure()\n",
    "ax1 = fig.add_subplot(111)\n",
    "x = np.array([2,4,7])\n",
    "y = np.array([9,1,5])\n",
    "ax1.plot(x, y)\n",
    "plt.show()"
   ]
  },
  {
   "cell_type": "code",
   "execution_count": null,
   "metadata": {},
   "outputs": [],
   "source": [
    "# Let's change from default blue lines to crosses:\n",
    "fig = plt.figure()\n",
    "ax1 = fig.add_subplot(111)\n",
    "ax1.plot(x, y, 'x')\n",
    "plt.show()"
   ]
  },
  {
   "cell_type": "code",
   "execution_count": null,
   "metadata": {},
   "outputs": [],
   "source": [
    "# Change to logarithmic axes and put some limits on xy axes:\n",
    "fig = plt.figure()\n",
    "ax1 = fig.add_subplot(111)\n",
    "ax1.plot(x, y,'x')\n",
    "ax1.set_xscale('log')\n",
    "ax1.set_xlim([0.1,10])\n",
    "ax1.set_ylim([0,10])\n",
    "plt.show()"
   ]
  },
  {
   "cell_type": "code",
   "execution_count": null,
   "metadata": {},
   "outputs": [],
   "source": [
    "# You could have the axis limit go from 0, even if log(0) is - infinity\n",
    "np.log10(0)"
   ]
  },
  {
   "cell_type": "code",
   "execution_count": null,
   "metadata": {},
   "outputs": [],
   "source": [
    "# Here is a more 'polished' version:\n",
    "fontsize = 20\n",
    "mpl.rcParams['xtick.labelsize'] = fontsize\n",
    "mpl.rcParams['ytick.labelsize'] = fontsize\n",
    "fig = plt.figure(figsize=(12,8))\n",
    "ax1 = fig.add_subplot(111)\n",
    "ax1.plot(x, y,'r',lw=10) # LineWidth = 2\n",
    "ax1.plot(x, y,'y',lw=2) # LineWidth = 2\n",
    "ax1.plot(x, y,'x',ms=15,mew=3,label='Galaxies [Malhotra+16]') # MarkerSize = 8, MarkerEdgeWidth = 3\n",
    "# Set limits on axes\n",
    "ax1.set_xlim([0,10])\n",
    "ax1.set_ylim([0,10])\n",
    "ax1.set_title('Galaxy Evolution',fontsize=fontsize)\n",
    "ax1.set_xlabel('Redshift $z$',fontsize=fontsize)\n",
    "ax1.set_ylabel('SFR [M$_{\\odot}$/yr]',fontsize=fontsize)\n",
    "ax1.legend(numpoints=1,fontsize=15,loc='upper right')\n",
    "plt.show(block=False)"
   ]
  },
  {
   "cell_type": "code",
   "execution_count": null,
   "metadata": {},
   "outputs": [],
   "source": [
    "# More than one plot in a figure: add_subplot\n",
    "fig = plt.figure(figsize=(12,8))\n",
    "ax1 = fig.add_subplot(221)\n",
    "ax1.plot(x, y,'r',lw=2) # LineWidth = 2\n",
    "ax1.plot(x, y,'x',ms=8,mew=3,label='Galaxies [Malhotra+16]') # MarkerSize = 8, MarkerEdgeWidth = 3\n",
    "# Set limits on axes\n",
    "ax1.set_xlim([0,10])\n",
    "ax1.set_ylim([0,10])\n",
    "ax1.set_title('Galaxy Evolution',fontsize=18)\n",
    "ax1.set_xlabel('Redshift $z$',fontsize=14)\n",
    "ax1.set_ylabel('SFR [M$_{\\odot}$/yr]',fontsize=14)\n",
    "ax1.legend(numpoints=1)\n",
    "mpl.rcParams['xtick.labelsize'] = 14\n",
    "mpl.rcParams['ytick.labelsize'] = 14\n",
    "ax2 = fig.add_subplot(222)\n",
    "ax2.plot(y, x,'r',lw=2) # LineWidth = 2\n",
    "ax3 = fig.add_subplot(223)\n",
    "ax3.plot(x, y,'g',lw=2) # LineWidth = 2\n",
    "plt.tight_layout()\n",
    "plt.show(block=False)\n"
   ]
  },
  {
   "cell_type": "code",
   "execution_count": null,
   "metadata": {},
   "outputs": [],
   "source": [
    "# More than one plot in a figure: add_subplot\n",
    "fig = plt.figure(figsize=(12,8))\n",
    "ax1 = fig.add_subplot(221)\n",
    "ax1.plot(x, y,'r',lw=2) # LineWidth = 2\n",
    "ax1.plot(x, y,'x',ms=8,mew=3,label='Galaxies [Malhotra+16]') # MarkerSize = 8, MarkerEdgeWidth = 3\n",
    "# Set limits on axes\n",
    "ax1.set_xlim([0,10])\n",
    "ax1.set_ylim([0,10])\n",
    "ax1.set_title('Galaxy Evolution',fontsize=18)\n",
    "ax1.set_xlabel('Redshift $z$',fontsize=14)\n",
    "ax1.set_ylabel('SFR [M$_{\\odot}$/yr]',fontsize=14)\n",
    "ax1.legend(numpoints=1)\n",
    "mpl.rcParams['xtick.labelsize'] = 14\n",
    "mpl.rcParams['ytick.labelsize'] = 14\n",
    "ax2 = fig.add_subplot(322)\n",
    "ax2.plot(y, x,'r',lw=2) # LineWidth = 2\n",
    "ax3 = fig.add_subplot(212)\n",
    "ax3.plot(x, y,'g',lw=2) # LineWidth = 2\n",
    "plt.savefig('test.png',dpi=200)\n",
    "plt.show(block=False)\n"
   ]
  },
  {
   "cell_type": "code",
   "execution_count": null,
   "metadata": {
    "collapsed": true
   },
   "outputs": [],
   "source": []
  },
  {
   "cell_type": "code",
   "execution_count": null,
   "metadata": {
    "collapsed": true
   },
   "outputs": [],
   "source": []
  }
 ],
 "metadata": {
  "kernelspec": {
   "display_name": "Python 2",
   "language": "python",
   "name": "python2"
  },
  "language_info": {
   "codemirror_mode": {
    "name": "ipython",
    "version": 2
   },
   "file_extension": ".py",
   "mimetype": "text/x-python",
   "name": "python",
   "nbconvert_exporter": "python",
   "pygments_lexer": "ipython2",
   "version": "2.7.13"
  }
 },
 "nbformat": 4,
 "nbformat_minor": 1
}
